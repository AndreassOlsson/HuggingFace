{
  "nbformat": 4,
  "nbformat_minor": 0,
  "metadata": {
    "colab": {
      "provenance": [],
      "include_colab_link": true
    },
    "kernelspec": {
      "name": "python3",
      "display_name": "Python 3"
    },
    "language_info": {
      "name": "python"
    }
  },
  "cells": [
    {
      "cell_type": "markdown",
      "metadata": {
        "id": "view-in-github",
        "colab_type": "text"
      },
      "source": [
        "<a href=\"https://colab.research.google.com/github/AndreassOlsson/HuggingFace/blob/main/prompt-engineering.ipynb\" target=\"_parent\"><img src=\"https://colab.research.google.com/assets/colab-badge.svg\" alt=\"Open In Colab\"/></a>"
      ]
    },
    {
      "cell_type": "markdown",
      "source": [
        "# Prompt engineering on pretrained gpt2"
      ],
      "metadata": {
        "id": "MBW4jRbPYkTE"
      }
    },
    {
      "cell_type": "code",
      "source": [
        "!pip install transformers"
      ],
      "metadata": {
        "id": "jq_8NORJ_r9p"
      },
      "execution_count": null,
      "outputs": []
    },
    {
      "cell_type": "code",
      "source": [
        "import tensorflow as tf\n",
        "from transformers import TFGPT2LMHeadModel, GPT2Tokenizer\n",
        "\n",
        "\n",
        "tokenizer = GPT2Tokenizer.from_pretrained(\"gpt2\")\n",
        "\n",
        "# add the EOS token as PAD token to avoid warnings\n",
        "model = TFGPT2LMHeadModel.from_pretrained(\"gpt2\", pad_token_id=tokenizer.eos_token_id)"
      ],
      "metadata": {
        "id": "n1HTsx_bnt3i"
      },
      "execution_count": null,
      "outputs": []
    },
    {
      "cell_type": "code",
      "source": [
        "# Different decoding strategies with different settings\n",
        "def greedy(input_ids):\n",
        "  return model.generate(input_ids, max_length=50)\n",
        "\n",
        "def beam(input_ids):\n",
        "  out = model.generate(\n",
        "    input_ids, \n",
        "    max_length=50, \n",
        "    num_beams=10, \n",
        "    no_repeat_ngram_size=2, \n",
        "    num_return_sequences=3, \n",
        "    early_stopping=True\n",
        "  )\n",
        "  return out\n",
        "\n",
        "def sample(input_ids):\n",
        "  tf.random.set_seed(0)\n",
        "  out = model.generate(\n",
        "    input_ids, \n",
        "    do_sample=True, \n",
        "    max_length=50, \n",
        "    temperature=1,\n",
        "    no_repeat_ngram_size=4, \n",
        "    top_p=1, \n",
        "    top_k=0\n",
        "  )\n",
        "  return out "
      ],
      "metadata": {
        "id": "CGi9iUicV6BT"
      },
      "execution_count": null,
      "outputs": []
    },
    {
      "cell_type": "code",
      "source": [
        "# Prompting with different decoding strategy\n",
        "input = 'The universe will end because of '\n",
        "input_ids = tokenizer.encode(input, return_tensors='tf')\n",
        "\n",
        "# The different decoding strategies get passed to the model.generate()\n",
        "outputs = beam(input_ids)\n",
        "for output in outputs:\n",
        "  print(\"Output: \" + 100 * '-')\n",
        "  print(tokenizer.decode(output, skip_special_tokens=True))"
      ],
      "metadata": {
        "id": "3xocoVGjnTz1"
      },
      "execution_count": null,
      "outputs": []
    }
  ]
}