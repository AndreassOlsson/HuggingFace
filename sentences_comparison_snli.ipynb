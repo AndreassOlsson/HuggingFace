{
  "nbformat": 4,
  "nbformat_minor": 0,
  "metadata": {
    "colab": {
      "provenance": [],
      "collapsed_sections": [
        "bw59UqVR_LDB",
        "M_KZ0NOo_Md3",
        "5OtBrEioLiXt"
      ],
      "include_colab_link": true
    },
    "kernelspec": {
      "name": "python3",
      "display_name": "Python 3"
    },
    "language_info": {
      "name": "python"
    },
    "widgets": {
      "application/vnd.jupyter.widget-state+json": {
        "24134c1bf5b64d28a909c8e8a20f3b0f": {
          "model_module": "@jupyter-widgets/controls",
          "model_name": "HBoxModel",
          "model_module_version": "1.5.0",
          "state": {
            "_dom_classes": [],
            "_model_module": "@jupyter-widgets/controls",
            "_model_module_version": "1.5.0",
            "_model_name": "HBoxModel",
            "_view_count": null,
            "_view_module": "@jupyter-widgets/controls",
            "_view_module_version": "1.5.0",
            "_view_name": "HBoxView",
            "box_style": "",
            "children": [
              "IPY_MODEL_def80e851a7840f2b16fb8ecc2897ad8",
              "IPY_MODEL_32b69292ffb5481387c09812bb72c4bb",
              "IPY_MODEL_87b5f88716fa4e2b97df0d8049d10f3c"
            ],
            "layout": "IPY_MODEL_a75c9d162f6541c2b66cdf06b7248646"
          }
        },
        "def80e851a7840f2b16fb8ecc2897ad8": {
          "model_module": "@jupyter-widgets/controls",
          "model_name": "HTMLModel",
          "model_module_version": "1.5.0",
          "state": {
            "_dom_classes": [],
            "_model_module": "@jupyter-widgets/controls",
            "_model_module_version": "1.5.0",
            "_model_name": "HTMLModel",
            "_view_count": null,
            "_view_module": "@jupyter-widgets/controls",
            "_view_module_version": "1.5.0",
            "_view_name": "HTMLView",
            "description": "",
            "description_tooltip": null,
            "layout": "IPY_MODEL_655891c037734e318c0c0be3f8af24a1",
            "placeholder": "​",
            "style": "IPY_MODEL_657daca4cc6840ca9c97d4c741b0874d",
            "value": "100%"
          }
        },
        "32b69292ffb5481387c09812bb72c4bb": {
          "model_module": "@jupyter-widgets/controls",
          "model_name": "FloatProgressModel",
          "model_module_version": "1.5.0",
          "state": {
            "_dom_classes": [],
            "_model_module": "@jupyter-widgets/controls",
            "_model_module_version": "1.5.0",
            "_model_name": "FloatProgressModel",
            "_view_count": null,
            "_view_module": "@jupyter-widgets/controls",
            "_view_module_version": "1.5.0",
            "_view_name": "ProgressView",
            "bar_style": "success",
            "description": "",
            "description_tooltip": null,
            "layout": "IPY_MODEL_19405fda6e404188984f23e5939018ee",
            "max": 550,
            "min": 0,
            "orientation": "horizontal",
            "style": "IPY_MODEL_15fe82e00d444951981c136352acfc08",
            "value": 550
          }
        },
        "87b5f88716fa4e2b97df0d8049d10f3c": {
          "model_module": "@jupyter-widgets/controls",
          "model_name": "HTMLModel",
          "model_module_version": "1.5.0",
          "state": {
            "_dom_classes": [],
            "_model_module": "@jupyter-widgets/controls",
            "_model_module_version": "1.5.0",
            "_model_name": "HTMLModel",
            "_view_count": null,
            "_view_module": "@jupyter-widgets/controls",
            "_view_module_version": "1.5.0",
            "_view_name": "HTMLView",
            "description": "",
            "description_tooltip": null,
            "layout": "IPY_MODEL_54033b65864e4dc895300b4c9cf666e2",
            "placeholder": "​",
            "style": "IPY_MODEL_cbb3e1956e4f406f87724f6e77d358fa",
            "value": " 550/550 [04:10&lt;00:00,  1.54ba/s]"
          }
        },
        "a75c9d162f6541c2b66cdf06b7248646": {
          "model_module": "@jupyter-widgets/base",
          "model_name": "LayoutModel",
          "model_module_version": "1.2.0",
          "state": {
            "_model_module": "@jupyter-widgets/base",
            "_model_module_version": "1.2.0",
            "_model_name": "LayoutModel",
            "_view_count": null,
            "_view_module": "@jupyter-widgets/base",
            "_view_module_version": "1.2.0",
            "_view_name": "LayoutView",
            "align_content": null,
            "align_items": null,
            "align_self": null,
            "border": null,
            "bottom": null,
            "display": null,
            "flex": null,
            "flex_flow": null,
            "grid_area": null,
            "grid_auto_columns": null,
            "grid_auto_flow": null,
            "grid_auto_rows": null,
            "grid_column": null,
            "grid_gap": null,
            "grid_row": null,
            "grid_template_areas": null,
            "grid_template_columns": null,
            "grid_template_rows": null,
            "height": null,
            "justify_content": null,
            "justify_items": null,
            "left": null,
            "margin": null,
            "max_height": null,
            "max_width": null,
            "min_height": null,
            "min_width": null,
            "object_fit": null,
            "object_position": null,
            "order": null,
            "overflow": null,
            "overflow_x": null,
            "overflow_y": null,
            "padding": null,
            "right": null,
            "top": null,
            "visibility": null,
            "width": null
          }
        },
        "655891c037734e318c0c0be3f8af24a1": {
          "model_module": "@jupyter-widgets/base",
          "model_name": "LayoutModel",
          "model_module_version": "1.2.0",
          "state": {
            "_model_module": "@jupyter-widgets/base",
            "_model_module_version": "1.2.0",
            "_model_name": "LayoutModel",
            "_view_count": null,
            "_view_module": "@jupyter-widgets/base",
            "_view_module_version": "1.2.0",
            "_view_name": "LayoutView",
            "align_content": null,
            "align_items": null,
            "align_self": null,
            "border": null,
            "bottom": null,
            "display": null,
            "flex": null,
            "flex_flow": null,
            "grid_area": null,
            "grid_auto_columns": null,
            "grid_auto_flow": null,
            "grid_auto_rows": null,
            "grid_column": null,
            "grid_gap": null,
            "grid_row": null,
            "grid_template_areas": null,
            "grid_template_columns": null,
            "grid_template_rows": null,
            "height": null,
            "justify_content": null,
            "justify_items": null,
            "left": null,
            "margin": null,
            "max_height": null,
            "max_width": null,
            "min_height": null,
            "min_width": null,
            "object_fit": null,
            "object_position": null,
            "order": null,
            "overflow": null,
            "overflow_x": null,
            "overflow_y": null,
            "padding": null,
            "right": null,
            "top": null,
            "visibility": null,
            "width": null
          }
        },
        "657daca4cc6840ca9c97d4c741b0874d": {
          "model_module": "@jupyter-widgets/controls",
          "model_name": "DescriptionStyleModel",
          "model_module_version": "1.5.0",
          "state": {
            "_model_module": "@jupyter-widgets/controls",
            "_model_module_version": "1.5.0",
            "_model_name": "DescriptionStyleModel",
            "_view_count": null,
            "_view_module": "@jupyter-widgets/base",
            "_view_module_version": "1.2.0",
            "_view_name": "StyleView",
            "description_width": ""
          }
        },
        "19405fda6e404188984f23e5939018ee": {
          "model_module": "@jupyter-widgets/base",
          "model_name": "LayoutModel",
          "model_module_version": "1.2.0",
          "state": {
            "_model_module": "@jupyter-widgets/base",
            "_model_module_version": "1.2.0",
            "_model_name": "LayoutModel",
            "_view_count": null,
            "_view_module": "@jupyter-widgets/base",
            "_view_module_version": "1.2.0",
            "_view_name": "LayoutView",
            "align_content": null,
            "align_items": null,
            "align_self": null,
            "border": null,
            "bottom": null,
            "display": null,
            "flex": null,
            "flex_flow": null,
            "grid_area": null,
            "grid_auto_columns": null,
            "grid_auto_flow": null,
            "grid_auto_rows": null,
            "grid_column": null,
            "grid_gap": null,
            "grid_row": null,
            "grid_template_areas": null,
            "grid_template_columns": null,
            "grid_template_rows": null,
            "height": null,
            "justify_content": null,
            "justify_items": null,
            "left": null,
            "margin": null,
            "max_height": null,
            "max_width": null,
            "min_height": null,
            "min_width": null,
            "object_fit": null,
            "object_position": null,
            "order": null,
            "overflow": null,
            "overflow_x": null,
            "overflow_y": null,
            "padding": null,
            "right": null,
            "top": null,
            "visibility": null,
            "width": null
          }
        },
        "15fe82e00d444951981c136352acfc08": {
          "model_module": "@jupyter-widgets/controls",
          "model_name": "ProgressStyleModel",
          "model_module_version": "1.5.0",
          "state": {
            "_model_module": "@jupyter-widgets/controls",
            "_model_module_version": "1.5.0",
            "_model_name": "ProgressStyleModel",
            "_view_count": null,
            "_view_module": "@jupyter-widgets/base",
            "_view_module_version": "1.2.0",
            "_view_name": "StyleView",
            "bar_color": null,
            "description_width": ""
          }
        },
        "54033b65864e4dc895300b4c9cf666e2": {
          "model_module": "@jupyter-widgets/base",
          "model_name": "LayoutModel",
          "model_module_version": "1.2.0",
          "state": {
            "_model_module": "@jupyter-widgets/base",
            "_model_module_version": "1.2.0",
            "_model_name": "LayoutModel",
            "_view_count": null,
            "_view_module": "@jupyter-widgets/base",
            "_view_module_version": "1.2.0",
            "_view_name": "LayoutView",
            "align_content": null,
            "align_items": null,
            "align_self": null,
            "border": null,
            "bottom": null,
            "display": null,
            "flex": null,
            "flex_flow": null,
            "grid_area": null,
            "grid_auto_columns": null,
            "grid_auto_flow": null,
            "grid_auto_rows": null,
            "grid_column": null,
            "grid_gap": null,
            "grid_row": null,
            "grid_template_areas": null,
            "grid_template_columns": null,
            "grid_template_rows": null,
            "height": null,
            "justify_content": null,
            "justify_items": null,
            "left": null,
            "margin": null,
            "max_height": null,
            "max_width": null,
            "min_height": null,
            "min_width": null,
            "object_fit": null,
            "object_position": null,
            "order": null,
            "overflow": null,
            "overflow_x": null,
            "overflow_y": null,
            "padding": null,
            "right": null,
            "top": null,
            "visibility": null,
            "width": null
          }
        },
        "cbb3e1956e4f406f87724f6e77d358fa": {
          "model_module": "@jupyter-widgets/controls",
          "model_name": "DescriptionStyleModel",
          "model_module_version": "1.5.0",
          "state": {
            "_model_module": "@jupyter-widgets/controls",
            "_model_module_version": "1.5.0",
            "_model_name": "DescriptionStyleModel",
            "_view_count": null,
            "_view_module": "@jupyter-widgets/base",
            "_view_module_version": "1.2.0",
            "_view_name": "StyleView",
            "description_width": ""
          }
        },
        "2a1d5e767ea14971880289b205401b32": {
          "model_module": "@jupyter-widgets/controls",
          "model_name": "HBoxModel",
          "model_module_version": "1.5.0",
          "state": {
            "_dom_classes": [],
            "_model_module": "@jupyter-widgets/controls",
            "_model_module_version": "1.5.0",
            "_model_name": "HBoxModel",
            "_view_count": null,
            "_view_module": "@jupyter-widgets/controls",
            "_view_module_version": "1.5.0",
            "_view_name": "HBoxView",
            "box_style": "",
            "children": [
              "IPY_MODEL_37a49b4e13464488859dce9dfa5a3f7b",
              "IPY_MODEL_87901464c9604a3cbc602d2d2c3f6e2b",
              "IPY_MODEL_95b5725316864a048f31ef3b9144bb4b"
            ],
            "layout": "IPY_MODEL_e6bffaf240414f138bc978ecabe2c176"
          }
        },
        "37a49b4e13464488859dce9dfa5a3f7b": {
          "model_module": "@jupyter-widgets/controls",
          "model_name": "HTMLModel",
          "model_module_version": "1.5.0",
          "state": {
            "_dom_classes": [],
            "_model_module": "@jupyter-widgets/controls",
            "_model_module_version": "1.5.0",
            "_model_name": "HTMLModel",
            "_view_count": null,
            "_view_module": "@jupyter-widgets/controls",
            "_view_module_version": "1.5.0",
            "_view_name": "HTMLView",
            "description": "",
            "description_tooltip": null,
            "layout": "IPY_MODEL_cbb9589d5fdc4f49b698733f8ec52d7d",
            "placeholder": "​",
            "style": "IPY_MODEL_5cccbbf4190341a1a2de6a55b01d3dc5",
            "value": "100%"
          }
        },
        "87901464c9604a3cbc602d2d2c3f6e2b": {
          "model_module": "@jupyter-widgets/controls",
          "model_name": "FloatProgressModel",
          "model_module_version": "1.5.0",
          "state": {
            "_dom_classes": [],
            "_model_module": "@jupyter-widgets/controls",
            "_model_module_version": "1.5.0",
            "_model_name": "FloatProgressModel",
            "_view_count": null,
            "_view_module": "@jupyter-widgets/controls",
            "_view_module_version": "1.5.0",
            "_view_name": "ProgressView",
            "bar_style": "success",
            "description": "",
            "description_tooltip": null,
            "layout": "IPY_MODEL_21341e8c9c01469eaad152b7ac01d0c9",
            "max": 5,
            "min": 0,
            "orientation": "horizontal",
            "style": "IPY_MODEL_8fdee8dc2cfe4fa0906e22a71956b571",
            "value": 5
          }
        },
        "95b5725316864a048f31ef3b9144bb4b": {
          "model_module": "@jupyter-widgets/controls",
          "model_name": "HTMLModel",
          "model_module_version": "1.5.0",
          "state": {
            "_dom_classes": [],
            "_model_module": "@jupyter-widgets/controls",
            "_model_module_version": "1.5.0",
            "_model_name": "HTMLModel",
            "_view_count": null,
            "_view_module": "@jupyter-widgets/controls",
            "_view_module_version": "1.5.0",
            "_view_name": "HTMLView",
            "description": "",
            "description_tooltip": null,
            "layout": "IPY_MODEL_4950b50b992048f6a196acddc98fd4fd",
            "placeholder": "​",
            "style": "IPY_MODEL_c8a1a3f3e75142c0b670d7de81ee38b2",
            "value": " 5/5 [00:03&lt;00:00,  1.34ba/s]"
          }
        },
        "e6bffaf240414f138bc978ecabe2c176": {
          "model_module": "@jupyter-widgets/base",
          "model_name": "LayoutModel",
          "model_module_version": "1.2.0",
          "state": {
            "_model_module": "@jupyter-widgets/base",
            "_model_module_version": "1.2.0",
            "_model_name": "LayoutModel",
            "_view_count": null,
            "_view_module": "@jupyter-widgets/base",
            "_view_module_version": "1.2.0",
            "_view_name": "LayoutView",
            "align_content": null,
            "align_items": null,
            "align_self": null,
            "border": null,
            "bottom": null,
            "display": null,
            "flex": null,
            "flex_flow": null,
            "grid_area": null,
            "grid_auto_columns": null,
            "grid_auto_flow": null,
            "grid_auto_rows": null,
            "grid_column": null,
            "grid_gap": null,
            "grid_row": null,
            "grid_template_areas": null,
            "grid_template_columns": null,
            "grid_template_rows": null,
            "height": null,
            "justify_content": null,
            "justify_items": null,
            "left": null,
            "margin": null,
            "max_height": null,
            "max_width": null,
            "min_height": null,
            "min_width": null,
            "object_fit": null,
            "object_position": null,
            "order": null,
            "overflow": null,
            "overflow_x": null,
            "overflow_y": null,
            "padding": null,
            "right": null,
            "top": null,
            "visibility": null,
            "width": null
          }
        },
        "cbb9589d5fdc4f49b698733f8ec52d7d": {
          "model_module": "@jupyter-widgets/base",
          "model_name": "LayoutModel",
          "model_module_version": "1.2.0",
          "state": {
            "_model_module": "@jupyter-widgets/base",
            "_model_module_version": "1.2.0",
            "_model_name": "LayoutModel",
            "_view_count": null,
            "_view_module": "@jupyter-widgets/base",
            "_view_module_version": "1.2.0",
            "_view_name": "LayoutView",
            "align_content": null,
            "align_items": null,
            "align_self": null,
            "border": null,
            "bottom": null,
            "display": null,
            "flex": null,
            "flex_flow": null,
            "grid_area": null,
            "grid_auto_columns": null,
            "grid_auto_flow": null,
            "grid_auto_rows": null,
            "grid_column": null,
            "grid_gap": null,
            "grid_row": null,
            "grid_template_areas": null,
            "grid_template_columns": null,
            "grid_template_rows": null,
            "height": null,
            "justify_content": null,
            "justify_items": null,
            "left": null,
            "margin": null,
            "max_height": null,
            "max_width": null,
            "min_height": null,
            "min_width": null,
            "object_fit": null,
            "object_position": null,
            "order": null,
            "overflow": null,
            "overflow_x": null,
            "overflow_y": null,
            "padding": null,
            "right": null,
            "top": null,
            "visibility": null,
            "width": null
          }
        },
        "5cccbbf4190341a1a2de6a55b01d3dc5": {
          "model_module": "@jupyter-widgets/controls",
          "model_name": "DescriptionStyleModel",
          "model_module_version": "1.5.0",
          "state": {
            "_model_module": "@jupyter-widgets/controls",
            "_model_module_version": "1.5.0",
            "_model_name": "DescriptionStyleModel",
            "_view_count": null,
            "_view_module": "@jupyter-widgets/base",
            "_view_module_version": "1.2.0",
            "_view_name": "StyleView",
            "description_width": ""
          }
        },
        "21341e8c9c01469eaad152b7ac01d0c9": {
          "model_module": "@jupyter-widgets/base",
          "model_name": "LayoutModel",
          "model_module_version": "1.2.0",
          "state": {
            "_model_module": "@jupyter-widgets/base",
            "_model_module_version": "1.2.0",
            "_model_name": "LayoutModel",
            "_view_count": null,
            "_view_module": "@jupyter-widgets/base",
            "_view_module_version": "1.2.0",
            "_view_name": "LayoutView",
            "align_content": null,
            "align_items": null,
            "align_self": null,
            "border": null,
            "bottom": null,
            "display": null,
            "flex": null,
            "flex_flow": null,
            "grid_area": null,
            "grid_auto_columns": null,
            "grid_auto_flow": null,
            "grid_auto_rows": null,
            "grid_column": null,
            "grid_gap": null,
            "grid_row": null,
            "grid_template_areas": null,
            "grid_template_columns": null,
            "grid_template_rows": null,
            "height": null,
            "justify_content": null,
            "justify_items": null,
            "left": null,
            "margin": null,
            "max_height": null,
            "max_width": null,
            "min_height": null,
            "min_width": null,
            "object_fit": null,
            "object_position": null,
            "order": null,
            "overflow": null,
            "overflow_x": null,
            "overflow_y": null,
            "padding": null,
            "right": null,
            "top": null,
            "visibility": null,
            "width": null
          }
        },
        "8fdee8dc2cfe4fa0906e22a71956b571": {
          "model_module": "@jupyter-widgets/controls",
          "model_name": "ProgressStyleModel",
          "model_module_version": "1.5.0",
          "state": {
            "_model_module": "@jupyter-widgets/controls",
            "_model_module_version": "1.5.0",
            "_model_name": "ProgressStyleModel",
            "_view_count": null,
            "_view_module": "@jupyter-widgets/base",
            "_view_module_version": "1.2.0",
            "_view_name": "StyleView",
            "bar_color": null,
            "description_width": ""
          }
        },
        "4950b50b992048f6a196acddc98fd4fd": {
          "model_module": "@jupyter-widgets/base",
          "model_name": "LayoutModel",
          "model_module_version": "1.2.0",
          "state": {
            "_model_module": "@jupyter-widgets/base",
            "_model_module_version": "1.2.0",
            "_model_name": "LayoutModel",
            "_view_count": null,
            "_view_module": "@jupyter-widgets/base",
            "_view_module_version": "1.2.0",
            "_view_name": "LayoutView",
            "align_content": null,
            "align_items": null,
            "align_self": null,
            "border": null,
            "bottom": null,
            "display": null,
            "flex": null,
            "flex_flow": null,
            "grid_area": null,
            "grid_auto_columns": null,
            "grid_auto_flow": null,
            "grid_auto_rows": null,
            "grid_column": null,
            "grid_gap": null,
            "grid_row": null,
            "grid_template_areas": null,
            "grid_template_columns": null,
            "grid_template_rows": null,
            "height": null,
            "justify_content": null,
            "justify_items": null,
            "left": null,
            "margin": null,
            "max_height": null,
            "max_width": null,
            "min_height": null,
            "min_width": null,
            "object_fit": null,
            "object_position": null,
            "order": null,
            "overflow": null,
            "overflow_x": null,
            "overflow_y": null,
            "padding": null,
            "right": null,
            "top": null,
            "visibility": null,
            "width": null
          }
        },
        "c8a1a3f3e75142c0b670d7de81ee38b2": {
          "model_module": "@jupyter-widgets/controls",
          "model_name": "DescriptionStyleModel",
          "model_module_version": "1.5.0",
          "state": {
            "_model_module": "@jupyter-widgets/controls",
            "_model_module_version": "1.5.0",
            "_model_name": "DescriptionStyleModel",
            "_view_count": null,
            "_view_module": "@jupyter-widgets/base",
            "_view_module_version": "1.2.0",
            "_view_name": "StyleView",
            "description_width": ""
          }
        },
        "bf9053ba82c94e089611ef4a17d3c93e": {
          "model_module": "@jupyter-widgets/controls",
          "model_name": "HBoxModel",
          "model_module_version": "1.5.0",
          "state": {
            "_dom_classes": [],
            "_model_module": "@jupyter-widgets/controls",
            "_model_module_version": "1.5.0",
            "_model_name": "HBoxModel",
            "_view_count": null,
            "_view_module": "@jupyter-widgets/controls",
            "_view_module_version": "1.5.0",
            "_view_name": "HBoxView",
            "box_style": "",
            "children": [
              "IPY_MODEL_ee793964a8c74c219cec3f70be5d0e17",
              "IPY_MODEL_65d46e8cc6974c73bc978eb218650cb9",
              "IPY_MODEL_1ce4276c52cb45b7a21cace432100310"
            ],
            "layout": "IPY_MODEL_545a738f922142f19a0b707fc44d33d0"
          }
        },
        "ee793964a8c74c219cec3f70be5d0e17": {
          "model_module": "@jupyter-widgets/controls",
          "model_name": "HTMLModel",
          "model_module_version": "1.5.0",
          "state": {
            "_dom_classes": [],
            "_model_module": "@jupyter-widgets/controls",
            "_model_module_version": "1.5.0",
            "_model_name": "HTMLModel",
            "_view_count": null,
            "_view_module": "@jupyter-widgets/controls",
            "_view_module_version": "1.5.0",
            "_view_name": "HTMLView",
            "description": "",
            "description_tooltip": null,
            "layout": "IPY_MODEL_0799fea3150e49559934183a3d024c82",
            "placeholder": "​",
            "style": "IPY_MODEL_355609ebba384ce2a39af9fe692f4ca6",
            "value": "100%"
          }
        },
        "65d46e8cc6974c73bc978eb218650cb9": {
          "model_module": "@jupyter-widgets/controls",
          "model_name": "FloatProgressModel",
          "model_module_version": "1.5.0",
          "state": {
            "_dom_classes": [],
            "_model_module": "@jupyter-widgets/controls",
            "_model_module_version": "1.5.0",
            "_model_name": "FloatProgressModel",
            "_view_count": null,
            "_view_module": "@jupyter-widgets/controls",
            "_view_module_version": "1.5.0",
            "_view_name": "ProgressView",
            "bar_style": "success",
            "description": "",
            "description_tooltip": null,
            "layout": "IPY_MODEL_575ef339ae4f484baf5f80ac2147dccf",
            "max": 5,
            "min": 0,
            "orientation": "horizontal",
            "style": "IPY_MODEL_6106a18189d94b06be7c23e89fe74089",
            "value": 5
          }
        },
        "1ce4276c52cb45b7a21cace432100310": {
          "model_module": "@jupyter-widgets/controls",
          "model_name": "HTMLModel",
          "model_module_version": "1.5.0",
          "state": {
            "_dom_classes": [],
            "_model_module": "@jupyter-widgets/controls",
            "_model_module_version": "1.5.0",
            "_model_name": "HTMLModel",
            "_view_count": null,
            "_view_module": "@jupyter-widgets/controls",
            "_view_module_version": "1.5.0",
            "_view_name": "HTMLView",
            "description": "",
            "description_tooltip": null,
            "layout": "IPY_MODEL_7c6d5d16a87e4cb2a8d148b8a09beea8",
            "placeholder": "​",
            "style": "IPY_MODEL_121b0af24ad7476c894734ac1619da8e",
            "value": " 5/5 [00:03&lt;00:00,  1.50ba/s]"
          }
        },
        "545a738f922142f19a0b707fc44d33d0": {
          "model_module": "@jupyter-widgets/base",
          "model_name": "LayoutModel",
          "model_module_version": "1.2.0",
          "state": {
            "_model_module": "@jupyter-widgets/base",
            "_model_module_version": "1.2.0",
            "_model_name": "LayoutModel",
            "_view_count": null,
            "_view_module": "@jupyter-widgets/base",
            "_view_module_version": "1.2.0",
            "_view_name": "LayoutView",
            "align_content": null,
            "align_items": null,
            "align_self": null,
            "border": null,
            "bottom": null,
            "display": null,
            "flex": null,
            "flex_flow": null,
            "grid_area": null,
            "grid_auto_columns": null,
            "grid_auto_flow": null,
            "grid_auto_rows": null,
            "grid_column": null,
            "grid_gap": null,
            "grid_row": null,
            "grid_template_areas": null,
            "grid_template_columns": null,
            "grid_template_rows": null,
            "height": null,
            "justify_content": null,
            "justify_items": null,
            "left": null,
            "margin": null,
            "max_height": null,
            "max_width": null,
            "min_height": null,
            "min_width": null,
            "object_fit": null,
            "object_position": null,
            "order": null,
            "overflow": null,
            "overflow_x": null,
            "overflow_y": null,
            "padding": null,
            "right": null,
            "top": null,
            "visibility": null,
            "width": null
          }
        },
        "0799fea3150e49559934183a3d024c82": {
          "model_module": "@jupyter-widgets/base",
          "model_name": "LayoutModel",
          "model_module_version": "1.2.0",
          "state": {
            "_model_module": "@jupyter-widgets/base",
            "_model_module_version": "1.2.0",
            "_model_name": "LayoutModel",
            "_view_count": null,
            "_view_module": "@jupyter-widgets/base",
            "_view_module_version": "1.2.0",
            "_view_name": "LayoutView",
            "align_content": null,
            "align_items": null,
            "align_self": null,
            "border": null,
            "bottom": null,
            "display": null,
            "flex": null,
            "flex_flow": null,
            "grid_area": null,
            "grid_auto_columns": null,
            "grid_auto_flow": null,
            "grid_auto_rows": null,
            "grid_column": null,
            "grid_gap": null,
            "grid_row": null,
            "grid_template_areas": null,
            "grid_template_columns": null,
            "grid_template_rows": null,
            "height": null,
            "justify_content": null,
            "justify_items": null,
            "left": null,
            "margin": null,
            "max_height": null,
            "max_width": null,
            "min_height": null,
            "min_width": null,
            "object_fit": null,
            "object_position": null,
            "order": null,
            "overflow": null,
            "overflow_x": null,
            "overflow_y": null,
            "padding": null,
            "right": null,
            "top": null,
            "visibility": null,
            "width": null
          }
        },
        "355609ebba384ce2a39af9fe692f4ca6": {
          "model_module": "@jupyter-widgets/controls",
          "model_name": "DescriptionStyleModel",
          "model_module_version": "1.5.0",
          "state": {
            "_model_module": "@jupyter-widgets/controls",
            "_model_module_version": "1.5.0",
            "_model_name": "DescriptionStyleModel",
            "_view_count": null,
            "_view_module": "@jupyter-widgets/base",
            "_view_module_version": "1.2.0",
            "_view_name": "StyleView",
            "description_width": ""
          }
        },
        "575ef339ae4f484baf5f80ac2147dccf": {
          "model_module": "@jupyter-widgets/base",
          "model_name": "LayoutModel",
          "model_module_version": "1.2.0",
          "state": {
            "_model_module": "@jupyter-widgets/base",
            "_model_module_version": "1.2.0",
            "_model_name": "LayoutModel",
            "_view_count": null,
            "_view_module": "@jupyter-widgets/base",
            "_view_module_version": "1.2.0",
            "_view_name": "LayoutView",
            "align_content": null,
            "align_items": null,
            "align_self": null,
            "border": null,
            "bottom": null,
            "display": null,
            "flex": null,
            "flex_flow": null,
            "grid_area": null,
            "grid_auto_columns": null,
            "grid_auto_flow": null,
            "grid_auto_rows": null,
            "grid_column": null,
            "grid_gap": null,
            "grid_row": null,
            "grid_template_areas": null,
            "grid_template_columns": null,
            "grid_template_rows": null,
            "height": null,
            "justify_content": null,
            "justify_items": null,
            "left": null,
            "margin": null,
            "max_height": null,
            "max_width": null,
            "min_height": null,
            "min_width": null,
            "object_fit": null,
            "object_position": null,
            "order": null,
            "overflow": null,
            "overflow_x": null,
            "overflow_y": null,
            "padding": null,
            "right": null,
            "top": null,
            "visibility": null,
            "width": null
          }
        },
        "6106a18189d94b06be7c23e89fe74089": {
          "model_module": "@jupyter-widgets/controls",
          "model_name": "ProgressStyleModel",
          "model_module_version": "1.5.0",
          "state": {
            "_model_module": "@jupyter-widgets/controls",
            "_model_module_version": "1.5.0",
            "_model_name": "ProgressStyleModel",
            "_view_count": null,
            "_view_module": "@jupyter-widgets/base",
            "_view_module_version": "1.2.0",
            "_view_name": "StyleView",
            "bar_color": null,
            "description_width": ""
          }
        },
        "7c6d5d16a87e4cb2a8d148b8a09beea8": {
          "model_module": "@jupyter-widgets/base",
          "model_name": "LayoutModel",
          "model_module_version": "1.2.0",
          "state": {
            "_model_module": "@jupyter-widgets/base",
            "_model_module_version": "1.2.0",
            "_model_name": "LayoutModel",
            "_view_count": null,
            "_view_module": "@jupyter-widgets/base",
            "_view_module_version": "1.2.0",
            "_view_name": "LayoutView",
            "align_content": null,
            "align_items": null,
            "align_self": null,
            "border": null,
            "bottom": null,
            "display": null,
            "flex": null,
            "flex_flow": null,
            "grid_area": null,
            "grid_auto_columns": null,
            "grid_auto_flow": null,
            "grid_auto_rows": null,
            "grid_column": null,
            "grid_gap": null,
            "grid_row": null,
            "grid_template_areas": null,
            "grid_template_columns": null,
            "grid_template_rows": null,
            "height": null,
            "justify_content": null,
            "justify_items": null,
            "left": null,
            "margin": null,
            "max_height": null,
            "max_width": null,
            "min_height": null,
            "min_width": null,
            "object_fit": null,
            "object_position": null,
            "order": null,
            "overflow": null,
            "overflow_x": null,
            "overflow_y": null,
            "padding": null,
            "right": null,
            "top": null,
            "visibility": null,
            "width": null
          }
        },
        "121b0af24ad7476c894734ac1619da8e": {
          "model_module": "@jupyter-widgets/controls",
          "model_name": "DescriptionStyleModel",
          "model_module_version": "1.5.0",
          "state": {
            "_model_module": "@jupyter-widgets/controls",
            "_model_module_version": "1.5.0",
            "_model_name": "DescriptionStyleModel",
            "_view_count": null,
            "_view_module": "@jupyter-widgets/base",
            "_view_module_version": "1.2.0",
            "_view_name": "StyleView",
            "description_width": ""
          }
        }
      }
    },
    "accelerator": "GPU"
  },
  "cells": [
    {
      "cell_type": "markdown",
      "metadata": {
        "id": "view-in-github",
        "colab_type": "text"
      },
      "source": [
        "<a href=\"https://colab.research.google.com/github/AndreassOlsson/HuggingFace/blob/main/sentences_comparison_snli.ipynb\" target=\"_parent\"><img src=\"https://colab.research.google.com/assets/colab-badge.svg\" alt=\"Open In Colab\"/></a>"
      ]
    },
    {
      "cell_type": "markdown",
      "source": [
        "# Analyse the contents of two sentences (SNLI dataset)\n",
        "\n"
      ],
      "metadata": {
        "id": "9cYBdiopkdjJ"
      }
    },
    {
      "cell_type": "markdown",
      "source": [
        "# Downloading, unzipping and saving data as dataframes"
      ],
      "metadata": {
        "id": "bw59UqVR_LDB"
      }
    },
    {
      "cell_type": "code",
      "execution_count": null,
      "metadata": {
        "id": "CmP84fydjcX-"
      },
      "outputs": [],
      "source": [
        "from zipfile import ZipFile\n",
        "\n",
        "file_name = \"drive/MyDrive/Andreas Olsson/Huggingface/hf3_files-and-model-weights/snli_1.0.zip\"\n",
        "# opening the zip file in READ mode\n",
        "with ZipFile(file_name, 'r') as zip:\n",
        "    # printing all the contents of the zip file\n",
        "    zip.printdir()\n",
        "  \n",
        "    # extracting all the files\n",
        "    print('Extracting all the files now...')\n",
        "    zip.extractall()\n",
        "    print('Done!')"
      ]
    },
    {
      "cell_type": "code",
      "source": [
        "import json\n",
        "import pandas as pd\n",
        "\n",
        "# TRAIN DATA\n",
        "with open ('/content/snli_1.0/snli_1.0_train.jsonl', 'r') as json_lines:\n",
        "  reg_json = json_lines.read().splitlines() \n",
        "\n",
        "  df_intermediate = pd.DataFrame(reg_json)\n",
        "  df_intermediate.columns = ['json_element']\n",
        "\n",
        "  df_intermediate['json_element'].apply(json.loads)\n",
        "\n",
        "  tr = pd.json_normalize(df_intermediate['json_element'].apply(json.loads))\n",
        "\n",
        "# DEV DATA\n",
        "with open ('/content/snli_1.0/snli_1.0_dev.jsonl', 'r') as json_lines:\n",
        "  reg_json = json_lines.read().splitlines() \n",
        "\n",
        "  df_intermediate = pd.DataFrame(reg_json)\n",
        "  df_intermediate.columns = ['json_element']\n",
        "\n",
        "  df_intermediate['json_element'].apply(json.loads)\n",
        "\n",
        "  dev = pd.json_normalize(df_intermediate['json_element'].apply(json.loads))\n",
        "\n",
        "# TEST DATA\n",
        "with open ('/content/snli_1.0/snli_1.0_test.jsonl', 'r') as json_lines:\n",
        "  reg_json = json_lines.read().splitlines() \n",
        "\n",
        "  df_intermediate = pd.DataFrame(reg_json)\n",
        "  df_intermediate.columns = ['json_element']\n",
        "\n",
        "  df_intermediate['json_element'].apply(json.loads)\n",
        "\n",
        "  ts = pd.json_normalize(df_intermediate['json_element'].apply(json.loads))\n"
      ],
      "metadata": {
        "id": "PQMrafoenF6O"
      },
      "execution_count": null,
      "outputs": []
    },
    {
      "cell_type": "markdown",
      "source": [
        "# Choosing a suitable pre-trained model"
      ],
      "metadata": {
        "id": "M_KZ0NOo_Md3"
      }
    },
    {
      "cell_type": "markdown",
      "source": [
        "BERT will be chosen as the pre-trained model\n",
        "\n",
        "Pros:\n",
        "\n",
        "*   More suitable for sequence classification (compared to GPT-2 which is more optimized for text generation)\n",
        "*   Much better model performance over legacy methods\n",
        "*   Ability to process larger amounts of text and language\n",
        "*   Suitable for pre-training\n",
        "\n",
        "Cons:\n",
        "\n",
        "\n",
        "*   It is a large and computationally expensive model\n",
        "*   Slow to train"
      ],
      "metadata": {
        "id": "JRRsbzfn_iGE"
      }
    },
    {
      "cell_type": "markdown",
      "source": [
        "# Analysing and transforming the data"
      ],
      "metadata": {
        "id": "28PhM51fAkAp"
      }
    },
    {
      "cell_type": "markdown",
      "source": [
        "## Tidy up dataframe"
      ],
      "metadata": {
        "id": "NWoPt93ALeQv"
      }
    },
    {
      "cell_type": "code",
      "source": [
        "# Drop unnecssary colunms\n",
        "tr = tr[['gold_label', 'sentence1', 'sentence2']]\n",
        "dev = dev[['gold_label', 'sentence1', 'sentence2']]\n",
        "ts = ts[['gold_label', 'sentence1', 'sentence2']]"
      ],
      "metadata": {
        "id": "m2DECczt2c4-"
      },
      "execution_count": null,
      "outputs": []
    },
    {
      "cell_type": "code",
      "source": [
        "tr.sample(3)"
      ],
      "metadata": {
        "colab": {
          "base_uri": "https://localhost:8080/",
          "height": 143
        },
        "id": "5Lt9O3gUiYY1",
        "outputId": "248f76fb-90a7-471b-9875-b2ccad71cc60"
      },
      "execution_count": null,
      "outputs": [
        {
          "output_type": "execute_result",
          "data": {
            "text/plain": [
              "           gold_label                                          sentence1  \\\n",
              "97791   contradiction                  A young girl wearing a pink tutu.   \n",
              "416581        neutral  Many people out enjoying themselves and admiri...   \n",
              "327962        neutral  A man is doing tricks on a bicycle on ramps in...   \n",
              "\n",
              "                                                sentence2  \n",
              "97791                    A young man wearing a pink tutu.  \n",
              "416581  The people are looking at motorcycles from the...  \n",
              "327962              The man is being paid for the tricks.  "
            ],
            "text/html": [
              "\n",
              "  <div id=\"df-2b578d8b-0d6c-4de3-aa86-92d33e2f7b52\">\n",
              "    <div class=\"colab-df-container\">\n",
              "      <div>\n",
              "<style scoped>\n",
              "    .dataframe tbody tr th:only-of-type {\n",
              "        vertical-align: middle;\n",
              "    }\n",
              "\n",
              "    .dataframe tbody tr th {\n",
              "        vertical-align: top;\n",
              "    }\n",
              "\n",
              "    .dataframe thead th {\n",
              "        text-align: right;\n",
              "    }\n",
              "</style>\n",
              "<table border=\"1\" class=\"dataframe\">\n",
              "  <thead>\n",
              "    <tr style=\"text-align: right;\">\n",
              "      <th></th>\n",
              "      <th>gold_label</th>\n",
              "      <th>sentence1</th>\n",
              "      <th>sentence2</th>\n",
              "    </tr>\n",
              "  </thead>\n",
              "  <tbody>\n",
              "    <tr>\n",
              "      <th>97791</th>\n",
              "      <td>contradiction</td>\n",
              "      <td>A young girl wearing a pink tutu.</td>\n",
              "      <td>A young man wearing a pink tutu.</td>\n",
              "    </tr>\n",
              "    <tr>\n",
              "      <th>416581</th>\n",
              "      <td>neutral</td>\n",
              "      <td>Many people out enjoying themselves and admiri...</td>\n",
              "      <td>The people are looking at motorcycles from the...</td>\n",
              "    </tr>\n",
              "    <tr>\n",
              "      <th>327962</th>\n",
              "      <td>neutral</td>\n",
              "      <td>A man is doing tricks on a bicycle on ramps in...</td>\n",
              "      <td>The man is being paid for the tricks.</td>\n",
              "    </tr>\n",
              "  </tbody>\n",
              "</table>\n",
              "</div>\n",
              "      <button class=\"colab-df-convert\" onclick=\"convertToInteractive('df-2b578d8b-0d6c-4de3-aa86-92d33e2f7b52')\"\n",
              "              title=\"Convert this dataframe to an interactive table.\"\n",
              "              style=\"display:none;\">\n",
              "        \n",
              "  <svg xmlns=\"http://www.w3.org/2000/svg\" height=\"24px\"viewBox=\"0 0 24 24\"\n",
              "       width=\"24px\">\n",
              "    <path d=\"M0 0h24v24H0V0z\" fill=\"none\"/>\n",
              "    <path d=\"M18.56 5.44l.94 2.06.94-2.06 2.06-.94-2.06-.94-.94-2.06-.94 2.06-2.06.94zm-11 1L8.5 8.5l.94-2.06 2.06-.94-2.06-.94L8.5 2.5l-.94 2.06-2.06.94zm10 10l.94 2.06.94-2.06 2.06-.94-2.06-.94-.94-2.06-.94 2.06-2.06.94z\"/><path d=\"M17.41 7.96l-1.37-1.37c-.4-.4-.92-.59-1.43-.59-.52 0-1.04.2-1.43.59L10.3 9.45l-7.72 7.72c-.78.78-.78 2.05 0 2.83L4 21.41c.39.39.9.59 1.41.59.51 0 1.02-.2 1.41-.59l7.78-7.78 2.81-2.81c.8-.78.8-2.07 0-2.86zM5.41 20L4 18.59l7.72-7.72 1.47 1.35L5.41 20z\"/>\n",
              "  </svg>\n",
              "      </button>\n",
              "      \n",
              "  <style>\n",
              "    .colab-df-container {\n",
              "      display:flex;\n",
              "      flex-wrap:wrap;\n",
              "      gap: 12px;\n",
              "    }\n",
              "\n",
              "    .colab-df-convert {\n",
              "      background-color: #E8F0FE;\n",
              "      border: none;\n",
              "      border-radius: 50%;\n",
              "      cursor: pointer;\n",
              "      display: none;\n",
              "      fill: #1967D2;\n",
              "      height: 32px;\n",
              "      padding: 0 0 0 0;\n",
              "      width: 32px;\n",
              "    }\n",
              "\n",
              "    .colab-df-convert:hover {\n",
              "      background-color: #E2EBFA;\n",
              "      box-shadow: 0px 1px 2px rgba(60, 64, 67, 0.3), 0px 1px 3px 1px rgba(60, 64, 67, 0.15);\n",
              "      fill: #174EA6;\n",
              "    }\n",
              "\n",
              "    [theme=dark] .colab-df-convert {\n",
              "      background-color: #3B4455;\n",
              "      fill: #D2E3FC;\n",
              "    }\n",
              "\n",
              "    [theme=dark] .colab-df-convert:hover {\n",
              "      background-color: #434B5C;\n",
              "      box-shadow: 0px 1px 3px 1px rgba(0, 0, 0, 0.15);\n",
              "      filter: drop-shadow(0px 1px 2px rgba(0, 0, 0, 0.3));\n",
              "      fill: #FFFFFF;\n",
              "    }\n",
              "  </style>\n",
              "\n",
              "      <script>\n",
              "        const buttonEl =\n",
              "          document.querySelector('#df-2b578d8b-0d6c-4de3-aa86-92d33e2f7b52 button.colab-df-convert');\n",
              "        buttonEl.style.display =\n",
              "          google.colab.kernel.accessAllowed ? 'block' : 'none';\n",
              "\n",
              "        async function convertToInteractive(key) {\n",
              "          const element = document.querySelector('#df-2b578d8b-0d6c-4de3-aa86-92d33e2f7b52');\n",
              "          const dataTable =\n",
              "            await google.colab.kernel.invokeFunction('convertToInteractive',\n",
              "                                                     [key], {});\n",
              "          if (!dataTable) return;\n",
              "\n",
              "          const docLinkHtml = 'Like what you see? Visit the ' +\n",
              "            '<a target=\"_blank\" href=https://colab.research.google.com/notebooks/data_table.ipynb>data table notebook</a>'\n",
              "            + ' to learn more about interactive tables.';\n",
              "          element.innerHTML = '';\n",
              "          dataTable['output_type'] = 'display_data';\n",
              "          await google.colab.output.renderOutput(dataTable, element);\n",
              "          const docLink = document.createElement('div');\n",
              "          docLink.innerHTML = docLinkHtml;\n",
              "          element.appendChild(docLink);\n",
              "        }\n",
              "      </script>\n",
              "    </div>\n",
              "  </div>\n",
              "  "
            ]
          },
          "metadata": {},
          "execution_count": 63
        }
      ]
    },
    {
      "cell_type": "code",
      "source": [
        "tr.groupby('gold_label').count()"
      ],
      "metadata": {
        "colab": {
          "base_uri": "https://localhost:8080/",
          "height": 206
        },
        "id": "ygQrKUGR4Voo",
        "outputId": "23ecbdf1-1411-4784-de2a-25039342d057"
      },
      "execution_count": null,
      "outputs": [
        {
          "output_type": "execute_result",
          "data": {
            "text/plain": [
              "               sentence1  sentence2\n",
              "gold_label                         \n",
              "-                    785        785\n",
              "contradiction     183187     183187\n",
              "entailment        183416     183416\n",
              "neutral           182764     182764"
            ],
            "text/html": [
              "\n",
              "  <div id=\"df-6d731a70-652f-415a-8985-d347ff1117c6\">\n",
              "    <div class=\"colab-df-container\">\n",
              "      <div>\n",
              "<style scoped>\n",
              "    .dataframe tbody tr th:only-of-type {\n",
              "        vertical-align: middle;\n",
              "    }\n",
              "\n",
              "    .dataframe tbody tr th {\n",
              "        vertical-align: top;\n",
              "    }\n",
              "\n",
              "    .dataframe thead th {\n",
              "        text-align: right;\n",
              "    }\n",
              "</style>\n",
              "<table border=\"1\" class=\"dataframe\">\n",
              "  <thead>\n",
              "    <tr style=\"text-align: right;\">\n",
              "      <th></th>\n",
              "      <th>sentence1</th>\n",
              "      <th>sentence2</th>\n",
              "    </tr>\n",
              "    <tr>\n",
              "      <th>gold_label</th>\n",
              "      <th></th>\n",
              "      <th></th>\n",
              "    </tr>\n",
              "  </thead>\n",
              "  <tbody>\n",
              "    <tr>\n",
              "      <th>-</th>\n",
              "      <td>785</td>\n",
              "      <td>785</td>\n",
              "    </tr>\n",
              "    <tr>\n",
              "      <th>contradiction</th>\n",
              "      <td>183187</td>\n",
              "      <td>183187</td>\n",
              "    </tr>\n",
              "    <tr>\n",
              "      <th>entailment</th>\n",
              "      <td>183416</td>\n",
              "      <td>183416</td>\n",
              "    </tr>\n",
              "    <tr>\n",
              "      <th>neutral</th>\n",
              "      <td>182764</td>\n",
              "      <td>182764</td>\n",
              "    </tr>\n",
              "  </tbody>\n",
              "</table>\n",
              "</div>\n",
              "      <button class=\"colab-df-convert\" onclick=\"convertToInteractive('df-6d731a70-652f-415a-8985-d347ff1117c6')\"\n",
              "              title=\"Convert this dataframe to an interactive table.\"\n",
              "              style=\"display:none;\">\n",
              "        \n",
              "  <svg xmlns=\"http://www.w3.org/2000/svg\" height=\"24px\"viewBox=\"0 0 24 24\"\n",
              "       width=\"24px\">\n",
              "    <path d=\"M0 0h24v24H0V0z\" fill=\"none\"/>\n",
              "    <path d=\"M18.56 5.44l.94 2.06.94-2.06 2.06-.94-2.06-.94-.94-2.06-.94 2.06-2.06.94zm-11 1L8.5 8.5l.94-2.06 2.06-.94-2.06-.94L8.5 2.5l-.94 2.06-2.06.94zm10 10l.94 2.06.94-2.06 2.06-.94-2.06-.94-.94-2.06-.94 2.06-2.06.94z\"/><path d=\"M17.41 7.96l-1.37-1.37c-.4-.4-.92-.59-1.43-.59-.52 0-1.04.2-1.43.59L10.3 9.45l-7.72 7.72c-.78.78-.78 2.05 0 2.83L4 21.41c.39.39.9.59 1.41.59.51 0 1.02-.2 1.41-.59l7.78-7.78 2.81-2.81c.8-.78.8-2.07 0-2.86zM5.41 20L4 18.59l7.72-7.72 1.47 1.35L5.41 20z\"/>\n",
              "  </svg>\n",
              "      </button>\n",
              "      \n",
              "  <style>\n",
              "    .colab-df-container {\n",
              "      display:flex;\n",
              "      flex-wrap:wrap;\n",
              "      gap: 12px;\n",
              "    }\n",
              "\n",
              "    .colab-df-convert {\n",
              "      background-color: #E8F0FE;\n",
              "      border: none;\n",
              "      border-radius: 50%;\n",
              "      cursor: pointer;\n",
              "      display: none;\n",
              "      fill: #1967D2;\n",
              "      height: 32px;\n",
              "      padding: 0 0 0 0;\n",
              "      width: 32px;\n",
              "    }\n",
              "\n",
              "    .colab-df-convert:hover {\n",
              "      background-color: #E2EBFA;\n",
              "      box-shadow: 0px 1px 2px rgba(60, 64, 67, 0.3), 0px 1px 3px 1px rgba(60, 64, 67, 0.15);\n",
              "      fill: #174EA6;\n",
              "    }\n",
              "\n",
              "    [theme=dark] .colab-df-convert {\n",
              "      background-color: #3B4455;\n",
              "      fill: #D2E3FC;\n",
              "    }\n",
              "\n",
              "    [theme=dark] .colab-df-convert:hover {\n",
              "      background-color: #434B5C;\n",
              "      box-shadow: 0px 1px 3px 1px rgba(0, 0, 0, 0.15);\n",
              "      filter: drop-shadow(0px 1px 2px rgba(0, 0, 0, 0.3));\n",
              "      fill: #FFFFFF;\n",
              "    }\n",
              "  </style>\n",
              "\n",
              "      <script>\n",
              "        const buttonEl =\n",
              "          document.querySelector('#df-6d731a70-652f-415a-8985-d347ff1117c6 button.colab-df-convert');\n",
              "        buttonEl.style.display =\n",
              "          google.colab.kernel.accessAllowed ? 'block' : 'none';\n",
              "\n",
              "        async function convertToInteractive(key) {\n",
              "          const element = document.querySelector('#df-6d731a70-652f-415a-8985-d347ff1117c6');\n",
              "          const dataTable =\n",
              "            await google.colab.kernel.invokeFunction('convertToInteractive',\n",
              "                                                     [key], {});\n",
              "          if (!dataTable) return;\n",
              "\n",
              "          const docLinkHtml = 'Like what you see? Visit the ' +\n",
              "            '<a target=\"_blank\" href=https://colab.research.google.com/notebooks/data_table.ipynb>data table notebook</a>'\n",
              "            + ' to learn more about interactive tables.';\n",
              "          element.innerHTML = '';\n",
              "          dataTable['output_type'] = 'display_data';\n",
              "          await google.colab.output.renderOutput(dataTable, element);\n",
              "          const docLink = document.createElement('div');\n",
              "          docLink.innerHTML = docLinkHtml;\n",
              "          element.appendChild(docLink);\n",
              "        }\n",
              "      </script>\n",
              "    </div>\n",
              "  </div>\n",
              "  "
            ]
          },
          "metadata": {},
          "execution_count": 64
        }
      ]
    },
    {
      "cell_type": "code",
      "source": [
        "# Drop examples without gold_label\n",
        "tr = tr[tr['gold_label'] != '-']\n",
        "dev = dev[dev['gold_label'] != '-']\n",
        "ts = ts[ts['gold_label'] != '-']"
      ],
      "metadata": {
        "id": "uf7Qtsr25tcf"
      },
      "execution_count": null,
      "outputs": []
    },
    {
      "cell_type": "markdown",
      "source": [
        "## Analyse vocabulary of sentences & create updated test+dev dataset"
      ],
      "metadata": {
        "id": "PRj8hZ_RB0YJ"
      }
    },
    {
      "cell_type": "code",
      "source": [
        "# Compare the lengths of sentences in the test and dev set\n",
        "import matplotlib.pyplot as plt\n",
        "\n",
        "dev['len1'] = dev['sentence1'].apply(len)\n",
        "dev['len2'] = dev['sentence2'].apply(len)\n",
        "dev['l1-l2'] = dev['len1'] - dev['len2']\n",
        "\n",
        "ts['len1'] = ts['sentence1'].apply(len)\n",
        "ts['len2'] = ts['sentence2'].apply(len)\n",
        "ts['l1-l2'] = ts['len1'] - ts['len2']"
      ],
      "metadata": {
        "id": "oEU_bIdK6H8R"
      },
      "execution_count": null,
      "outputs": []
    },
    {
      "cell_type": "code",
      "source": [
        "plt.hist(dev['len1'], bins=50, label=\"sentence1 length in dev set\", alpha=0.5)\n",
        "plt.hist(ts['len1'], bins=50, label=\"sentence1 length in test set\", alpha=0.5)\n",
        "plt.title(\"Sentence 1 Length Comparison\")\n",
        "plt.legend(loc='best')\n",
        "plt.show()\n",
        "\n",
        "plt.hist(dev['len2'], bins=50, label=\"sentence2 length in dev set\", alpha=0.5)\n",
        "plt.hist(ts['len2'], bins=50, label=\"sentence2 length in test set\", alpha=0.5)\n",
        "plt.title(\"Sentence 2 Length Comparison\")\n",
        "plt.legend(loc='best')\n",
        "plt.show()\n",
        "\n",
        "plt.hist(dev['l1-l2'], bins=50, label=\"Length difference in dev set\", alpha=0.5)\n",
        "plt.hist(ts['l1-l2'], bins=50, label=\"Length difference in test set\", alpha=0.5)\n",
        "plt.title(\"Comparison of diff in lengths of sentence 1 and 2 in dev and test sets\")\n",
        "plt.legend(loc='best')\n",
        "plt.show()"
      ],
      "metadata": {
        "colab": {
          "base_uri": "https://localhost:8080/",
          "height": 809
        },
        "id": "yQXE5_Gh74us",
        "outputId": "73eff46c-9108-4f89-dd8a-5c0a1561a4e7"
      },
      "execution_count": null,
      "outputs": [
        {
          "output_type": "display_data",
          "data": {
            "text/plain": [
              "<Figure size 432x288 with 1 Axes>"
            ],
            "image/png": "[encoded data removed]"
          },
          "metadata": {
            "needs_background": "light"
          }
        },
        {
          "output_type": "display_data",
          "data": {
            "text/plain": [
              "<Figure size 432x288 with 1 Axes>"
            ],
            "image/png": "[encoded data removed]"
          },
          "metadata": {
            "needs_background": "light"
          }
        },
        {
          "output_type": "display_data",
          "data": {
            "text/plain": [
              "<Figure size 432x288 with 1 Axes>"
            ],
            "image/png": "[encoded data removed]"
          },
          "metadata": {
            "needs_background": "light"
          }
        }
      ]
    },
    {
      "cell_type": "code",
      "source": [
        "# Since the lengths of the sentences are fairly similar, compare the vocabulary used\n",
        "def unique_words(column):\n",
        "  ws = list(column.str.split(' ', expand=True).stack().unique())\n",
        "  ws = [w.strip('.,;()[]') for w in ws]\n",
        "  return ws\n",
        "\n",
        "def common_words(l1, l2):\n",
        "  return [w for w in l1 if w in l2]\n",
        "\n",
        "def analyse_vocab(dev, ts):\n",
        "  d1 = unique_words(dev['sentence1'])\n",
        "  d2 = unique_words(dev['sentence2'])\n",
        "  d = d1 + d2\n",
        "  d = list(set(d))\n",
        "\n",
        "  t1 = unique_words(ts['sentence1'])\n",
        "  t2 = unique_words(ts['sentence2'])\n",
        "  t = t1 + t2\n",
        "  t = list(set(t))\n",
        "\n",
        "  print('% Words in common in both dev and test set', str(len(common_words(d, t))/len(t)))"
      ],
      "metadata": {
        "id": "b-iZLOOc8A-O"
      },
      "execution_count": null,
      "outputs": []
    },
    {
      "cell_type": "markdown",
      "source": [
        "< 60% words in common is not ideal and can lead to poor generalization. To solve this, either:\n",
        "\n",
        "*   Shuffle test and dev set randomly, into two equal halves\n",
        "*   Randomly split the test set into equal halves using one half as dev set and the other as test set\n",
        "\n",
        "Since the test set is large enough, the second option is chosen since the first might distort the representativeness of test data"
      ],
      "metadata": {
        "id": "sI8C3MpiG9g9"
      }
    },
    {
      "cell_type": "code",
      "source": [
        "import numpy as np\n",
        "np.random.seed(42)\n",
        "\n",
        "mask = np.random.rand(len(ts)) < 0.5\n",
        "\n",
        "print('OLD')\n",
        "old_dev = dev\n",
        "old_ts = ts\n",
        "analyse_vocab(old_dev, old_ts)\n",
        "\n",
        "# Remove temporary columns len1, len2 etc.\n",
        "dev = dev[['gold_label','sentence1','sentence2']]\n",
        "ts = ts[['gold_label','sentence1','sentence2']]\n",
        "\n",
        "print('\\nNEW')\n",
        "dev = ts[mask]\n",
        "ts = ts[~mask]\n",
        "analyse_vocab(dev, ts)"
      ],
      "metadata": {
        "colab": {
          "base_uri": "https://localhost:8080/"
        },
        "id": "_QxQbAaeFrN8",
        "outputId": "5964e938-04ec-4daf-b2fa-c094463952bd"
      },
      "execution_count": null,
      "outputs": [
        {
          "output_type": "stream",
          "name": "stdout",
          "text": [
            "OLD\n",
            "% Words in common in both dev and test set 0.5713884204609331\n",
            "\n",
            "NEW\n",
            "% Words in common in both dev and test set 0.7753661549320628\n"
          ]
        }
      ]
    },
    {
      "cell_type": "markdown",
      "source": [
        "## Encode labels, transform dataframe to dataset & tokenize sentences"
      ],
      "metadata": {
        "id": "5OtBrEioLiXt"
      }
    },
    {
      "cell_type": "markdown",
      "source": [
        "BERT encoder expects three lists as inputs for each sentence:\n",
        "\n",
        "*   input_ids, which are indices corresponding to each token in the sentence\n",
        "*   attention_mask, which indicates whether a token should be attended to or not\n",
        "*   token_type_ids, which identifies which sequence a token belongs to when there is more than one sequence\n",
        "\n",
        "HuggingFace has pretrained tokenizers, designed for various models (such as the BERT model, both cased and uncased) which returns all of the above"
      ],
      "metadata": {
        "id": "MOoh5q87LrLe"
      }
    },
    {
      "cell_type": "code",
      "source": [
        "!pip install transformers datasets"
      ],
      "metadata": {
        "id": "SVo_xJ_hAlKx"
      },
      "execution_count": null,
      "outputs": []
    },
    {
      "cell_type": "code",
      "source": [
        "# Encode str gold_label to int labels\n",
        "from sklearn.preprocessing import LabelEncoder\n",
        "encoder = LabelEncoder()\n",
        "\n",
        "tr['labels'] = encoder.fit_transform(tr['gold_label'])\n",
        "dev['labels'] = encoder.fit_transform(dev['gold_label'])\n",
        "ts['labels'] = encoder.fit_transform(ts['gold_label'])"
      ],
      "metadata": {
        "id": "ZtKat9Kpdbob"
      },
      "execution_count": null,
      "outputs": []
    },
    {
      "cell_type": "code",
      "source": [
        "# Convert to huggingface Dataset\n",
        "from datasets import Dataset\n",
        "\n",
        "tr_dataset = Dataset.from_pandas(tr)\n",
        "dev_dataset = Dataset.from_pandas(dev)\n",
        "ts_dataset = Dataset.from_pandas(ts)"
      ],
      "metadata": {
        "id": "UlaFvcYQCVDz"
      },
      "execution_count": null,
      "outputs": []
    },
    {
      "cell_type": "code",
      "source": [
        "from transformers import AutoTokenizer\n",
        "\n",
        "tokenizer = AutoTokenizer.from_pretrained('bert-base-cased')\n",
        "\n",
        "def tokenize_function(example):\n",
        "  return tokenizer(example['sentence1'],example['sentence2'], padding='max_length', truncation=False)\n",
        "\n",
        "tr_tok = tr_dataset.map(tokenize_function, batched=True)\n",
        "dev_tok = dev_dataset.map(tokenize_function, batched=True)\n",
        "ts_tok = ts_dataset.map(tokenize_function, batched=True)"
      ],
      "metadata": {
        "colab": {
          "base_uri": "https://localhost:8080/",
          "height": 113,
          "referenced_widgets": [
            "24134c1bf5b64d28a909c8e8a20f3b0f",
            "def80e851a7840f2b16fb8ecc2897ad8",
            "32b69292ffb5481387c09812bb72c4bb",
            "87b5f88716fa4e2b97df0d8049d10f3c",
            "a75c9d162f6541c2b66cdf06b7248646",
            "655891c037734e318c0c0be3f8af24a1",
            "657daca4cc6840ca9c97d4c741b0874d",
            "19405fda6e404188984f23e5939018ee",
            "15fe82e00d444951981c136352acfc08",
            "54033b65864e4dc895300b4c9cf666e2",
            "cbb3e1956e4f406f87724f6e77d358fa",
            "2a1d5e767ea14971880289b205401b32",
            "37a49b4e13464488859dce9dfa5a3f7b",
            "87901464c9604a3cbc602d2d2c3f6e2b",
            "95b5725316864a048f31ef3b9144bb4b",
            "e6bffaf240414f138bc978ecabe2c176",
            "cbb9589d5fdc4f49b698733f8ec52d7d",
            "5cccbbf4190341a1a2de6a55b01d3dc5",
            "21341e8c9c01469eaad152b7ac01d0c9",
            "8fdee8dc2cfe4fa0906e22a71956b571",
            "4950b50b992048f6a196acddc98fd4fd",
            "c8a1a3f3e75142c0b670d7de81ee38b2",
            "bf9053ba82c94e089611ef4a17d3c93e",
            "ee793964a8c74c219cec3f70be5d0e17",
            "65d46e8cc6974c73bc978eb218650cb9",
            "1ce4276c52cb45b7a21cace432100310",
            "545a738f922142f19a0b707fc44d33d0",
            "0799fea3150e49559934183a3d024c82",
            "355609ebba384ce2a39af9fe692f4ca6",
            "575ef339ae4f484baf5f80ac2147dccf",
            "6106a18189d94b06be7c23e89fe74089",
            "7c6d5d16a87e4cb2a8d148b8a09beea8",
            "121b0af24ad7476c894734ac1619da8e"
          ]
        },
        "id": "wVIz29dYC1cx",
        "outputId": "98d860e8-fa5b-4fb7-c062-5ed0d094bf8c"
      },
      "execution_count": null,
      "outputs": [
        {
          "output_type": "display_data",
          "data": {
            "text/plain": [
              "  0%|          | 0/550 [00:00<?, ?ba/s]"
            ],
            "application/vnd.jupyter.widget-view+json": {
              "version_major": 2,
              "version_minor": 0,
              "model_id": "24134c1bf5b64d28a909c8e8a20f3b0f"
            }
          },
          "metadata": {}
        },
        {
          "output_type": "display_data",
          "data": {
            "text/plain": [
              "  0%|          | 0/5 [00:00<?, ?ba/s]"
            ],
            "application/vnd.jupyter.widget-view+json": {
              "version_major": 2,
              "version_minor": 0,
              "model_id": "2a1d5e767ea14971880289b205401b32"
            }
          },
          "metadata": {}
        },
        {
          "output_type": "display_data",
          "data": {
            "text/plain": [
              "  0%|          | 0/5 [00:00<?, ?ba/s]"
            ],
            "application/vnd.jupyter.widget-view+json": {
              "version_major": 2,
              "version_minor": 0,
              "model_id": "bf9053ba82c94e089611ef4a17d3c93e"
            }
          },
          "metadata": {}
        }
      ]
    },
    {
      "cell_type": "code",
      "source": [
        "tr_tok.save_to_disk('drive/MyDrive/Andreas Olsson/Huggingface/hf3_files-and-model-weights/tr')\n",
        "dev_tok.save_to_disk('drive/MyDrive/Andreas Olsson/Huggingface/hf3_files-and-model-weights/dev')\n",
        "ts_tok.save_to_disk('drive/MyDrive/Andreas Olsson/Huggingface/hf3_files-and-model-weights/ts')"
      ],
      "metadata": {
        "id": "e2I7qCSMmT6U"
      },
      "execution_count": null,
      "outputs": []
    },
    {
      "cell_type": "markdown",
      "source": [
        "# Transforming tokenized datasets to TF format, loading, compiling and training model"
      ],
      "metadata": {
        "id": "sRnY1z5Qdry_"
      }
    },
    {
      "cell_type": "code",
      "source": [
        "from google.colab import drive\n",
        "drive.mount('/content/drive')"
      ],
      "metadata": {
        "id": "7Ro2QKYpHa_4"
      },
      "execution_count": null,
      "outputs": []
    },
    {
      "cell_type": "code",
      "source": [
        "!pip install transformers datasets"
      ],
      "metadata": {
        "id": "s_rxY-Xwoysx"
      },
      "execution_count": null,
      "outputs": []
    },
    {
      "cell_type": "code",
      "source": [
        "# Load tokenized datasets\n",
        "from datasets import load_from_disk\n",
        "\n",
        "tr_tok = load_from_disk('drive/MyDrive/Andreas Olsson/Huggingface/hf3_files-and-model-weights/tr')\n",
        "dev_tok = load_from_disk('drive/MyDrive/Andreas Olsson/Huggingface/hf3_files-and-model-weights/dev')\n",
        "ts_tok = load_from_disk('drive/MyDrive/Andreas Olsson/Huggingface/hf3_files-and-model-weights/ts')"
      ],
      "metadata": {
        "id": "_x2qMQS4nlDk"
      },
      "execution_count": null,
      "outputs": []
    },
    {
      "cell_type": "code",
      "source": [
        "from transformers import DefaultDataCollator\n",
        "\n",
        "data_collator = DefaultDataCollator(return_tensors=\"tf\")"
      ],
      "metadata": {
        "id": "0oiX1C_rY1Pm"
      },
      "execution_count": null,
      "outputs": []
    },
    {
      "cell_type": "code",
      "source": [
        "tr_small = tr_tok.shuffle(seed=42).select(range(20000))\n",
        "dev_small= dev_tok.shuffle(seed=42).select(range(4000))\n",
        "\n",
        "tr_tfSet = tr_small.to_tf_dataset(\n",
        "    columns=[\"attention_mask\", \"input_ids\", \"token_type_ids\"],\n",
        "    label_cols=[\"labels\"],\n",
        "    shuffle=True,\n",
        "    collate_fn=data_collator,\n",
        "    batch_size=8,\n",
        ")\n",
        "\n",
        "dev_tfSet = dev_small.to_tf_dataset(\n",
        "    columns=[\"attention_mask\", \"input_ids\", \"token_type_ids\"],\n",
        "    label_cols=[\"labels\"],\n",
        "    shuffle=False,\n",
        "    collate_fn=data_collator,\n",
        "    batch_size=8,\n",
        ")"
      ],
      "metadata": {
        "id": "lQN7l9D-bsWy"
      },
      "execution_count": null,
      "outputs": []
    },
    {
      "cell_type": "code",
      "source": [
        "import tensorflow as tf\n",
        "from transformers import TFAutoModelForSequenceClassification\n",
        "\n",
        "model = TFAutoModelForSequenceClassification.from_pretrained(\"bert-base-cased\", num_labels=3)"
      ],
      "metadata": {
        "id": "zgZGmmRHZPJa"
      },
      "execution_count": null,
      "outputs": []
    },
    {
      "cell_type": "code",
      "source": [
        "model.compile(\n",
        "    optimizer=tf.keras.optimizers.Adam(learning_rate=5e-5),\n",
        "    loss=tf.keras.losses.SparseCategoricalCrossentropy(from_logits=True),\n",
        "    metrics=tf.metrics.SparseCategoricalAccuracy(),\n",
        ")"
      ],
      "metadata": {
        "id": "_RbkcuFGai3r"
      },
      "execution_count": null,
      "outputs": []
    },
    {
      "cell_type": "code",
      "source": [
        "# Save model's weights after each epoch\n",
        "import os\n",
        "checkpoint_path = \"drive/MyDrive/Andreas Olsson/Huggingface/hf3_files-and-model-weights/\"\n",
        "\n",
        "checkpoint_dir = os.path.dirname(checkpoint_path)\n",
        "\n",
        "# Create a callback that saves the model's weights\n",
        "cp_callback = tf.keras.callbacks.ModelCheckpoint(filepath=checkpoint_path,\n",
        "                                                 save_weights_only=True,\n",
        "                                                 verbose=1)\n",
        "\n",
        "# Train the model with the new callback\n",
        "model.fit(tr_tfSet, validation_data=dev_tfSet, epochs=3, callbacks=[cp_callback])  # Pass callback to training"
      ],
      "metadata": {
        "colab": {
          "base_uri": "https://localhost:8080/"
        },
        "id": "GfbKAuSQcdZ6",
        "outputId": "255426fb-b2a2-4c12-b13b-9a69af5fde6d"
      },
      "execution_count": null,
      "outputs": [
        {
          "output_type": "stream",
          "name": "stdout",
          "text": [
            "Epoch 1/3\n",
            "2500/2500 [==============================] - ETA: 0s - loss: 0.7075 - sparse_categorical_accuracy: 0.6988\n",
            "Epoch 1: saving model to drive/MyDrive/Andreas Olsson/Huggingface/hf3_files-and-model-weights/\n",
            "2500/2500 [==============================] - 2582s 1s/step - loss: 0.7075 - sparse_categorical_accuracy: 0.6988 - val_loss: 0.5753 - val_sparse_categorical_accuracy: 0.7778\n",
            "Epoch 2/3\n",
            "2500/2500 [==============================] - ETA: 0s - loss: 0.4818 - sparse_categorical_accuracy: 0.8187\n",
            "Epoch 2: saving model to drive/MyDrive/Andreas Olsson/Huggingface/hf3_files-and-model-weights/\n",
            "2500/2500 [==============================] - 2557s 1s/step - loss: 0.4818 - sparse_categorical_accuracy: 0.8187 - val_loss: 0.5607 - val_sparse_categorical_accuracy: 0.7832\n",
            "Epoch 3/3\n",
            "2500/2500 [==============================] - ETA: 0s - loss: 0.3587 - sparse_categorical_accuracy: 0.8690\n",
            "Epoch 3: saving model to drive/MyDrive/Andreas Olsson/Huggingface/hf3_files-and-model-weights/\n",
            "2500/2500 [==============================] - 2557s 1s/step - loss: 0.3587 - sparse_categorical_accuracy: 0.8690 - val_loss: 0.5760 - val_sparse_categorical_accuracy: 0.7885\n"
          ]
        },
        {
          "output_type": "execute_result",
          "data": {
            "text/plain": [
              "<keras.callbacks.History at 0x7f81bfc92e50>"
            ]
          },
          "metadata": {},
          "execution_count": 17
        }
      ]
    }
  ]
}